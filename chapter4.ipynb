{
 "cells": [
  {
   "cell_type": "code",
   "execution_count": 6,
   "metadata": {},
   "outputs": [
    {
     "name": "stdout",
     "output_type": "stream",
     "text": [
      "Collecting unidic\n",
      "  Downloading unidic-1.1.0.tar.gz (7.7 kB)\n",
      "  Preparing metadata (setup.py) ... \u001b[?25ldone\n",
      "\u001b[?25hRequirement already satisfied: requests<3.0.0,>=2.22.0 in /Users/skohei/.pyenv/versions/anaconda3-2023.03/envs/reserch/lib/python3.10/site-packages (from unidic) (2.28.1)\n",
      "Requirement already satisfied: tqdm<5.0.0,>=4.41.1 in /Users/skohei/.pyenv/versions/anaconda3-2023.03/envs/reserch/lib/python3.10/site-packages (from unidic) (4.64.1)\n",
      "Collecting wasabi<1.0.0,>=0.6.0\n",
      "  Downloading wasabi-0.10.1-py3-none-any.whl (26 kB)\n",
      "Collecting plac<2.0.0,>=1.1.3\n",
      "  Downloading plac-1.4.3-py2.py3-none-any.whl (22 kB)\n",
      "Requirement already satisfied: idna<4,>=2.5 in /Users/skohei/.pyenv/versions/anaconda3-2023.03/envs/reserch/lib/python3.10/site-packages (from requests<3.0.0,>=2.22.0->unidic) (3.4)\n",
      "Requirement already satisfied: urllib3<1.27,>=1.21.1 in /Users/skohei/.pyenv/versions/anaconda3-2023.03/envs/reserch/lib/python3.10/site-packages (from requests<3.0.0,>=2.22.0->unidic) (1.26.14)\n",
      "Requirement already satisfied: charset-normalizer<3,>=2 in /Users/skohei/.pyenv/versions/anaconda3-2023.03/envs/reserch/lib/python3.10/site-packages (from requests<3.0.0,>=2.22.0->unidic) (2.0.4)\n",
      "Requirement already satisfied: certifi>=2017.4.17 in /Users/skohei/.pyenv/versions/anaconda3-2023.03/envs/reserch/lib/python3.10/site-packages (from requests<3.0.0,>=2.22.0->unidic) (2022.12.7)\n",
      "Building wheels for collected packages: unidic\n",
      "  Building wheel for unidic (setup.py) ... \u001b[?25ldone\n",
      "\u001b[?25h  Created wheel for unidic: filename=unidic-1.1.0-py3-none-any.whl size=7409 sha256=7de189d7963052f9c362f3de55f4d49844a353e4c76ff2e9f926cc1023c923c9\n",
      "  Stored in directory: /Users/skohei/Library/Caches/pip/wheels/23/79/b5/46c3d80e15914d7f96508f527d0e096ebdda42c3f455186f5b\n",
      "Successfully built unidic\n",
      "Installing collected packages: wasabi, plac, unidic\n",
      "Successfully installed plac-1.4.3 unidic-1.1.0 wasabi-0.10.1\n"
     ]
    }
   ],
   "source": [
    "!pip install unidic"
   ]
  },
  {
   "cell_type": "code",
   "execution_count": 7,
   "metadata": {},
   "outputs": [
    {
     "name": "stdout",
     "output_type": "stream",
     "text": [
      "download url: https://cotonoha-dic.s3-ap-northeast-1.amazonaws.com/unidic-3.1.0.zip\n",
      "Dictionary version: 3.1.0+2021-08-31\n",
      "Downloading UniDic v3.1.0+2021-08-31...\n",
      "unidic-3.1.0.zip: 100%|██████████████████████| 526M/526M [01:17<00:00, 6.79MB/s]\n",
      "Finished download.\n",
      "Downloaded UniDic v3.1.0+2021-08-31 to /Users/skohei/.pyenv/versions/anaconda3-2023.03/envs/reserch/lib/python3.10/site-packages/unidic/dicdir\n"
     ]
    }
   ],
   "source": [
    "!python -m unidic download"
   ]
  },
  {
   "cell_type": "code",
   "execution_count": 10,
   "metadata": {},
   "outputs": [],
   "source": [
    "neko_file = \"./data/chapter4/neko.txt\"\n",
    "neko_mecab_file = \"./data/chapter4/neko.txt.mecab\"\n",
    "\n",
    "import MeCab\n",
    "mecab = MeCab.Tagger(\"-r /opt/homebrew/etc/mecabrc\")\n",
    "\n",
    "with open(neko_file, \"r\") as f, open(neko_mecab_file, \"w\") as f2:\n",
    "    lines = f.readlines()\n",
    "    for text in lines:\n",
    "        result = mecab.parse(text)\n",
    "        f2.write(result)"
   ]
  },
  {
   "cell_type": "code",
   "execution_count": null,
   "metadata": {},
   "outputs": [],
   "source": []
  }
 ],
 "metadata": {
  "kernelspec": {
   "display_name": "reserch",
   "language": "python",
   "name": "python3"
  },
  "language_info": {
   "codemirror_mode": {
    "name": "ipython",
    "version": 3
   },
   "file_extension": ".py",
   "mimetype": "text/x-python",
   "name": "python",
   "nbconvert_exporter": "python",
   "pygments_lexer": "ipython3",
   "version": "3.10.9"
  }
 },
 "nbformat": 4,
 "nbformat_minor": 2
}
